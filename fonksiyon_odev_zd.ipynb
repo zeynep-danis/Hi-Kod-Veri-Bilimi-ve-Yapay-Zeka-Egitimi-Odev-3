{
 "cells": [
  {
   "cell_type": "markdown",
   "metadata": {},
   "source": [
    "#### Ödev 1\n",
    "Kullanıcıdan pi değeri ve yarıçap bilgisi alarak dairenin alanını hesaplayan bir fonksiyon oluşturulur."
   ]
  },
  {
   "cell_type": "code",
   "execution_count": 75,
   "metadata": {
    "vscode": {
     "languageId": "plaintext"
    }
   },
   "outputs": [
    {
     "name": "stdin",
     "output_type": "stream",
     "text": [
      "Pi değerini giriniz: 3\n",
      "Yarıçap değerini giriniz: 6\n"
     ]
    },
    {
     "name": "stdout",
     "output_type": "stream",
     "text": [
      "Bu dairenin alan değeri 108\n"
     ]
    }
   ],
   "source": [
    "π = int(input(\"Pi değerini giriniz:\"))\n",
    "r = int(input(\"Yarıçap değerini giriniz:\"))\n",
    "\n",
    "def yari_cap(r):\n",
    "    dairenin_alani = str(π*(r**2))\n",
    "    print((\"Bu dairenin alan değeri \") + dairenin_alani)\n",
    "    \n",
    "yari_cap(r)"
   ]
  },
  {
   "cell_type": "markdown",
   "metadata": {},
   "source": [
    "#### Ödev 2\n",
    "\n",
    "Faktöriyel adında fonksiyon oluşturulur. Döngü kullanarak parametre olarak girilen sayının faktöriyeli hesaplanır. Format metodunu kullanılarak ekrana yazdırılır."
   ]
  },
  {
   "cell_type": "code",
   "execution_count": 115,
   "metadata": {
    "vscode": {
     "languageId": "plaintext"
    }
   },
   "outputs": [
    {
     "name": "stdin",
     "output_type": "stream",
     "text": [
      "Bir sayı giriniz: 4\n"
     ]
    },
    {
     "name": "stdout",
     "output_type": "stream",
     "text": [
      "4! = 24\n"
     ]
    }
   ],
   "source": [
    "def faktoriyel(sayi):\n",
    "    carpim = 1\n",
    "    for i in range(1, sayi + 1):\n",
    "        carpim = carpim*i\n",
    "    print(\"{}! = {}\".format(sayi, carpim))\n",
    "\n",
    "sayi = int(input(\"Bir sayı giriniz:\"))\n",
    "faktoriyel(sayi)"
   ]
  },
  {
   "cell_type": "markdown",
   "metadata": {},
   "source": [
    "#### Ödev 3\n",
    "Kişinin fonksiyona doğum yılını vererek kaç yaşında olduğunu hesaplayan bir fonksiyon oluşturun. "
   ]
  },
  {
   "cell_type": "code",
   "execution_count": 77,
   "metadata": {
    "vscode": {
     "languageId": "plaintext"
    }
   },
   "outputs": [
    {
     "name": "stdin",
     "output_type": "stream",
     "text": [
      "Lütfen doğum yılınızı giriniz: 2003\n"
     ]
    },
    {
     "name": "stdout",
     "output_type": "stream",
     "text": [
      "22 yaşındasınız.\n"
     ]
    }
   ],
   "source": [
    "dogum_yili = str(input(\"Lütfen doğum yılınızı giriniz:\"))\n",
    "\n",
    "def yas_hesaplama(dogum_yili):\n",
    "    yas = 2025 - int(dogum_yili)\n",
    "    print(str(yas) + \" yaşındasınız.\")\n",
    "    \n",
    "yas_hesaplama(dogum_yili)"
   ]
  },
  {
   "cell_type": "markdown",
   "metadata": {},
   "source": [
    "#### Ödev 4\n",
    "\n",
    "Doğum yılı ve isim bilgisi verilen fonksiyon kişinin emekli olup olmadığını söylesin.(Kişi 65 yaşında ise emekli olur.) Burada yaş hesabını yukarıdaki örnekteki fonksiyonu kullanarak yapsın.(Yani fonksiyon içinde fonksiyon kullanmanızı istiyorum :)) Kişi 65 yaşında ya da daha fazlaysa \"Emekli oldunuz\" yanıtını, 65 yaşından küçükse emekliliğine kaç yıl kaldığını da hesaplayarak \"(isim) emekliliğine (yıl) kaldı.\" yanıtını versin."
   ]
  },
  {
   "cell_type": "code",
   "execution_count": 119,
   "metadata": {
    "vscode": {
     "languageId": "plaintext"
    }
   },
   "outputs": [
    {
     "name": "stdin",
     "output_type": "stream",
     "text": [
      "Lütfen adınızı giriniz: Hülya\n",
      "Lütfen doğum yılınızı giriniz: 1982\n"
     ]
    },
    {
     "name": "stdout",
     "output_type": "stream",
     "text": [
      "Hülya emekliliğinize 22 yıl kaldı.\n"
     ]
    }
   ],
   "source": [
    "isim = str(input(\"Lütfen adınızı giriniz:\"))\n",
    "dogum_yili = str(input(\"Lütfen doğum yılınızı giriniz:\"))\n",
    "\n",
    "def yas_hesaplama(dogum_yili):\n",
    "    yas = 2025 - int(dogum_yili)\n",
    "    \n",
    "    def emekliye_kalan(yas):\n",
    "        emeklilik_yasi = 65 - int(yas)\n",
    "        print(str(isim) + \" emekliliğinize \" + str(emeklilik_yasi) + \" yıl kaldı.\")\n",
    "        \n",
    "    if yas >= int(65):\n",
    "        print(\"Emekli oldunuz.\")\n",
    "    else:\n",
    "        emekliye_kalan(yas)\n",
    "\n",
    "yas_hesaplama(dogum_yili)"
   ]
  }
 ],
 "metadata": {
  "kernelspec": {
   "display_name": "Python [conda env:base] *",
   "language": "python",
   "name": "conda-base-py"
  },
  "language_info": {
   "codemirror_mode": {
    "name": "ipython",
    "version": 3
   },
   "file_extension": ".py",
   "mimetype": "text/x-python",
   "name": "python",
   "nbconvert_exporter": "python",
   "pygments_lexer": "ipython3",
   "version": "3.12.7"
  }
 },
 "nbformat": 4,
 "nbformat_minor": 4
}
